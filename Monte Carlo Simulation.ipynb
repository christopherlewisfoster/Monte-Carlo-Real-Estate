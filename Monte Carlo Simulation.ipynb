{
 "cells": [
  {
   "cell_type": "markdown",
   "metadata": {},
   "source": [
    "### Import Relevant Libraries"
   ]
  },
  {
   "cell_type": "code",
   "execution_count": 1,
   "metadata": {},
   "outputs": [],
   "source": [
    "import numpy as np\n",
    "import pandas as pd\n",
    "import seaborn as sns\n",
    "import random\n",
    "from matplotlib.ticker import MultipleLocator\n",
    "from matplotlib.ticker import FuncFormatter\n",
    "\n",
    "from montecarlo import create_sp_return_generator, create_housing_return_generator, last_entry, REAsset, StockAsset, one_sim\n",
    "\n",
    "%matplotlib inline"
   ]
  },
  {
   "cell_type": "markdown",
   "metadata": {},
   "source": [
    "### Run Monte Carlo"
   ]
  },
  {
   "cell_type": "code",
   "execution_count": 19,
   "metadata": {
    "scrolled": false
   },
   "outputs": [],
   "source": [
    "data = []\n",
    "for epoch in range(1, 1000):\n",
    "    _, ROI_P1 = one_sim(350, 20, 30, verbose=0)\n",
    "    _, ROI_P2 = one_sim(400_000, 30, 30, verbose=0)\n",
    "    _, ROI_P3 = one_sim(430_000, 30, 30, verbose=0)\n",
    "    data.append({'Epoch': epoch, 'ROI_P1': ROI_P1, 'ROI_P2': ROI_P2, 'ROI_P3': ROI_P3})\n",
    "results = pd.DataFrame(data)"
   ]
  },
  {
   "cell_type": "code",
   "execution_count": 20,
   "metadata": {},
   "outputs": [
    {
     "data": {
      "text/plain": [
       "<matplotlib.axes._subplots.AxesSubplot at 0x26840e14908>"
      ]
     },
     "execution_count": 20,
     "metadata": {},
     "output_type": "execute_result"
    },
    {
     "data": {
      "image/png": "[encoded data removed]",
      "text/plain": [
       "<Figure size 432x288 with 1 Axes>"
      ]
     },
     "metadata": {
      "needs_background": "light"
     },
     "output_type": "display_data"
    }
   ],
   "source": [
    "sns.kdeplot(results['ROI_P1'])\n",
    "sns.kdeplot(results['ROI_P2'])\n",
    "sns.kdeplot(results['ROI_P3'])"
   ]
  },
  {
   "cell_type": "code",
   "execution_count": 21,
   "metadata": {},
   "outputs": [
    {
     "data": {
      "text/html": [
       "<div>\n",
       "<style scoped>\n",
       "    .dataframe tbody tr th:only-of-type {\n",
       "        vertical-align: middle;\n",
       "    }\n",
       "\n",
       "    .dataframe tbody tr th {\n",
       "        vertical-align: top;\n",
       "    }\n",
       "\n",
       "    .dataframe thead th {\n",
       "        text-align: right;\n",
       "    }\n",
       "</style>\n",
       "<table border=\"1\" class=\"dataframe\">\n",
       "  <thead>\n",
       "    <tr style=\"text-align: right;\">\n",
       "      <th></th>\n",
       "      <th>Epoch</th>\n",
       "      <th>ROI_P1</th>\n",
       "      <th>ROI_P2</th>\n",
       "      <th>ROI_P3</th>\n",
       "    </tr>\n",
       "  </thead>\n",
       "  <tbody>\n",
       "    <tr>\n",
       "      <th>0</th>\n",
       "      <td>1</td>\n",
       "      <td>2.703888</td>\n",
       "      <td>1.161191</td>\n",
       "      <td>2.844929</td>\n",
       "    </tr>\n",
       "    <tr>\n",
       "      <th>1</th>\n",
       "      <td>2</td>\n",
       "      <td>0.923210</td>\n",
       "      <td>1.655920</td>\n",
       "      <td>0.407074</td>\n",
       "    </tr>\n",
       "    <tr>\n",
       "      <th>2</th>\n",
       "      <td>3</td>\n",
       "      <td>5.563323</td>\n",
       "      <td>0.695625</td>\n",
       "      <td>0.235225</td>\n",
       "    </tr>\n",
       "    <tr>\n",
       "      <th>3</th>\n",
       "      <td>4</td>\n",
       "      <td>0.496605</td>\n",
       "      <td>4.036324</td>\n",
       "      <td>0.536784</td>\n",
       "    </tr>\n",
       "    <tr>\n",
       "      <th>4</th>\n",
       "      <td>5</td>\n",
       "      <td>2.574274</td>\n",
       "      <td>1.411569</td>\n",
       "      <td>0.418580</td>\n",
       "    </tr>\n",
       "  </tbody>\n",
       "</table>\n",
       "</div>"
      ],
      "text/plain": [
       "   Epoch    ROI_P1    ROI_P2    ROI_P3\n",
       "0      1  2.703888  1.161191  2.844929\n",
       "1      2  0.923210  1.655920  0.407074\n",
       "2      3  5.563323  0.695625  0.235225\n",
       "3      4  0.496605  4.036324  0.536784\n",
       "4      5  2.574274  1.411569  0.418580"
      ]
     },
     "execution_count": 21,
     "metadata": {},
     "output_type": "execute_result"
    }
   ],
   "source": [
    "results.head()"
   ]
  }
 ],
 "metadata": {
  "kernelspec": {
   "display_name": "Python 3",
   "language": "python",
   "name": "python3"
  },
  "language_info": {
   "codemirror_mode": {
    "name": "ipython",
    "version": 3
   },
   "file_extension": ".py",
   "mimetype": "text/x-python",
   "name": "python",
   "nbconvert_exporter": "python",
   "pygments_lexer": "ipython3",
   "version": "3.7.2"
  }
 },
 "nbformat": 4,
 "nbformat_minor": 2
}
